{
 "cells": [
  {
   "metadata": {},
   "cell_type": "markdown",
   "source": "# Regression model on European Motorbike Listings",
   "id": "f049100c49145ab6"
  },
  {
   "metadata": {},
   "cell_type": "markdown",
   "source": [
    "This notebook demonstrates how to build a machine learning model to predict the price of used motorbikes based on various features like mileage, power, make/model, version, and other factors. The model uses a Random Forest Regressor, and we employ several machine learning techniques such as data pre-processing, feature encoding, normalization, and hyperparameter tuning to achieve an accurate prediction.\n",
    "\n",
    "The dataset has been provided by Mexwell on Keggle: https://www.kaggle.com/datasets/mexwell/motorbike-marketplace"
   ],
   "id": "973acb041559c711"
  },
  {
   "metadata": {},
   "cell_type": "markdown",
   "source": "## Import Libraries",
   "id": "b55d6e0123b3ad6b"
  },
  {
   "metadata": {},
   "cell_type": "code",
   "execution_count": null,
   "source": [
    "import joblib\n",
    "import pandas as pd\n",
    "from sklearn.ensemble import RandomForestRegressor\n",
    "from sklearn.model_selection import train_test_split, RandomizedSearchCV, cross_val_score\n",
    "from sklearn.preprocessing import LabelEncoder, StandardScaler\n",
    "import numpy as np\n",
    "from sklearn.metrics import mean_squared_error"
   ],
   "id": "8c811054acef8bb8",
   "outputs": []
  },
  {
   "metadata": {},
   "cell_type": "markdown",
   "source": "## Prepocessing and splitting the dataset",
   "id": "c0eeaa380cbb750b"
  },
  {
   "metadata": {},
   "cell_type": "code",
   "execution_count": null,
   "source": [
    "df = pd.read_csv(\"europe-motorbikes-zenrows.csv\")\n",
    "df = df.dropna()\n",
    "df = df.drop(columns=[\"fuel\", \"gear\", \"offer_type\", \"link\"])\n",
    "\n",
    "df[\"month\"] = pd.to_datetime(df[\"date\"], format=\"%m/%Y\").dt.month\n",
    "df[\"year\"] = pd.to_datetime(df[\"date\"], format=\"%m/%Y\").dt.year\n",
    "df = df.drop(columns=[\"date\"])\n",
    "\n",
    "df = df[(df[\"price\"] > 500) & (df[\"price\"] < 50000)]\n",
    "\n",
    "y = np.log(df[\"price\"] / 1000.0)\n",
    "X = df.drop(columns=[\"price\"])\n",
    "\n",
    "le_model = LabelEncoder()\n",
    "le_version = LabelEncoder()\n",
    "X[\"make_model\"] = le_model.fit_transform(X[\"make_model\"])\n",
    "X[\"version\"] = le_version.fit_transform(X[\"version\"])\n",
    "\n",
    "scaler = StandardScaler()\n",
    "X_scaled = scaler.fit_transform(X)\n",
    "\n",
    "X_train, X_test, y_train, y_test = train_test_split(X_scaled, y, test_size=0.2, random_state=42)"
   ],
   "id": "f9b7c39121e54d79",
   "outputs": []
  },
  {
   "metadata": {},
   "cell_type": "markdown",
   "source": "## Define and train the model",
   "id": "9ef4ca65a927cbbf"
  },
  {
   "metadata": {},
   "cell_type": "code",
   "execution_count": null,
   "source": [
    "param_dist = {\n",
    "    'n_estimators': [50, 100, 200, 300],\n",
    "    'max_depth': [10, 20, 30, None],\n",
    "    'min_samples_split': [2, 5, 10],\n",
    "    'min_samples_leaf': [1, 2, 4],\n",
    "    'bootstrap': [True, False]\n",
    "}\n",
    "\n",
    "rf = RandomForestRegressor(random_state=42)\n",
    "\n",
    "random_search = RandomizedSearchCV(rf, param_distributions=param_dist, n_iter=10, cv=5, scoring='neg_mean_squared_error', n_jobs=-1, random_state=42)\n",
    "random_search.fit(X_train, y_train)\n",
    "\n",
    "print(f\"Best Hyperparameters: {random_search.best_params_}\")"
   ],
   "id": "9c68173e9f311269",
   "outputs": []
  },
  {
   "metadata": {},
   "cell_type": "markdown",
   "source": "## Evaluate the model",
   "id": "6cf546ab6a42f9fa"
  },
  {
   "metadata": {},
   "cell_type": "code",
   "outputs": [],
   "execution_count": null,
   "source": [
    "best_rf_model = random_search.best_estimator_\n",
    "\n",
    "cv_scores = cross_val_score(best_rf_model, X_scaled, y, cv=5, scoring='neg_mean_squared_error')\n",
    "print(f\"Cross-validated MSE (in thousands of €): {-cv_scores.mean():.4f}\")\n",
    "\n",
    "y_pred = best_rf_model.predict(X_test)\n",
    "test_mse = mean_squared_error(y_test, y_pred)\n",
    "\n",
    "joblib.dump(best_rf_model, 'motorbike_price_model.joblib')\n",
    "joblib.dump(scaler, 'scaler.joblib')\n",
    "print(f\"Test MSE (in thousands of €): {test_mse:.4f}\")"
   ],
   "id": "3f4e85e85116eee5"
  },
  {
   "metadata": {},
   "cell_type": "markdown",
   "source": [
    "### Model accuracy at the moment\n",
    " - Cross-validated MSE (in thousands of €): 0.0823\n",
    " - Test MSE (in thousands of €): 0.0780\n"
   ],
   "id": "a10f162fbbc674df"
  },
  {
   "metadata": {},
   "cell_type": "markdown",
   "source": "## Prediction",
   "id": "9d6828929c1e1440"
  },
  {
   "metadata": {},
   "cell_type": "code",
   "outputs": [],
   "execution_count": null,
   "source": [
    "new_input = {\n",
    "    \"mileage\": 150,  # mileage (numeric)\n",
    "    \"power\": 218.0,  # power (numeric)\n",
    "    \"make_model\": \"Honda\",  # make_model (categorical)\n",
    "    \"version\": \"CBR1000RR-R Fireblade SP\",  # version (categorical)\n",
    "    \"month\": 3,  # You must manually provide the correct month (from date)\n",
    "    \"year\": 2020  # You must manually provide the correct year (from date)\n",
    "}\n",
    "\n",
    "new_input_encoded = new_input.copy()\n",
    "new_input_encoded[\"make_model\"] = le_model.transform([new_input[\"make_model\"]])[0]\n",
    "new_input_encoded[\"version\"] = le_version.transform([new_input[\"version\"]])[0]\n",
    "\n",
    "input_data = [\n",
    "    new_input_encoded[\"mileage\"],\n",
    "    new_input_encoded[\"power\"],\n",
    "    new_input_encoded[\"make_model\"],\n",
    "    new_input_encoded[\"version\"],\n",
    "    new_input_encoded[\"month\"],\n",
    "    new_input_encoded[\"year\"]\n",
    "]\n",
    "\n",
    "input_data_scaled = scaler.transform([input_data])[0]\n",
    "\n",
    "predicted_price = best_rf_model.predict([input_data_scaled])[0]\n",
    "\n",
    "print(f\"Predicted Price: €{np.exp(predicted_price) * 1000:.2f}\")\n"
   ],
   "id": "26e34e2f4acf6b01"
  }
 ],
 "metadata": {
  "kernelspec": {
   "display_name": "Python 3",
   "language": "python",
   "name": "python3"
  },
  "language_info": {
   "codemirror_mode": {
    "name": "ipython",
    "version": 2
   },
   "file_extension": ".py",
   "mimetype": "text/x-python",
   "name": "python",
   "nbconvert_exporter": "python",
   "pygments_lexer": "ipython2",
   "version": "2.7.6"
  }
 },
 "nbformat": 4,
 "nbformat_minor": 5
}
